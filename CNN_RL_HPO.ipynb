{
 "cells": [
  {
   "cell_type": "markdown",
   "metadata": {
    "id": "setup_title"
   },
   "source": [
    "# CNN Hyperparameter Optimization with Reinforcement Learning\n",
    "\n",
    "This notebook runs the CNN-with-RL project in Google Colab.\n",
    "\n",
    "## Setup"
   ]
  },
  {
   "cell_type": "code",
   "execution_count": null,
   "metadata": {
    "id": "install_dependencies"
   },
   "outputs": [],
   "source": [
    "# Install required packages\n",
    "!pip install wandb gymnasium stable-baselines3 rich tqdm\n",
    "\n",
    "# Clone the repository\n",
    "!git clone https://github.com/YOUR_USERNAME/CNN-with-RL.git\n",
    "!cd CNN-with-RL"
   ]
  },
  {
   "cell_type": "code",
   "execution_count": null,
   "metadata": {
    "id": "mount_drive"
   },
   "outputs": [],
   "source": [
    "# Mount Google Drive to access dataset\n",
    "from google.colab import drive\n",
    "drive.mount('/content/drive')\n",
    "\n",
    "# Set up dataset paths\n",
    "DATASET_PATH = \"/content/drive/MyDrive/your_dataset_folder\"\n",
    "CSV_PATH = \"/content/drive/MyDrive/your_csv_file.csv\""
   ]
  },
  {
   "cell_type": "code",
   "execution_count": null,
   "metadata": {
    "id": "wandb_setup"
   },
   "outputs": [],
   "source": [
    "# Initialize wandb\n",
    "import wandb\n",
    "wandb.login()\n",
    "\n",
    "# Set your wandb project name\n",
    "WANDB_PROJECT = \"cnn-with-rl\"\n",
    "EXPERIMENT_NAME = \"colab-run-1\""
   ]
  },
  {
   "cell_type": "markdown",
   "metadata": {
    "id": "run_title"
   },
   "source": [
    "## Run Training"
   ]
  },
  {
   "cell_type": "code",
   "execution_count": null,
   "metadata": {
    "id": "main_run"
   },
   "outputs": [],
   "source": [
    "import sys\n",
    "sys.path.append('/content/CNN-with-RL')\n",
    "\n",
    "from src.data.fundus_dataset import get_fundus_data_loaders\n",
    "from src.models.cnn_model import FlexibleCNN\n",
    "from src.training.trainer import ModelTrainer\n",
    "from src.rl.hpo_env import HPOEnvironment\n",
    "from stable_baselines3 import PPO\n",
    "import torch\n",
    "import numpy as np\n",
    "\n",
    "# Initialize DataLoaders\n",
    "train_loader, val_loader = get_fundus_data_loaders(\n",
    "    csv_path=CSV_PATH,\n",
    "    images_dir=DATASET_PATH,\n",
    "    batch_size=32\n",
    ")\n",
    "\n",
    "# Initialize model and trainer\n",
    "device = torch.device(\"cuda\" if torch.cuda.is_available() else \"cpu\")\n",
    "model = FlexibleCNN(num_classes=8).to(device)\n",
    "\n",
    "trainer = ModelTrainer(\n",
    "    model=model,\n",
    "    train_loader=train_loader,\n",
    "    val_loader=val_loader,\n",
    "    use_wandb=True\n",
    ")\n",
    "\n",
    "# Create and initialize environment\n",
    "env = HPOEnvironment(\n",
    "    trainer=trainer,\n",
    "    train_loader=train_loader,\n",
    "    val_loader=val_loader,\n",
    "    num_classes=8,\n",
    "    experiment_name=EXPERIMENT_NAME,\n",
    "    dtype=np.float32\n",
    ")\n",
    "\n",
    "# Create PPO agent with custom exploration\n",
    "def exploration_schedule(progress):\n",
    "    return max(0.05, 0.5 * (1 - progress))\n",
    "\n",
    "rl_model = PPO(\n",
    "    \"MlpPolicy\",\n",
    "    env,\n",
    "    verbose=1,\n",
    "    device='cuda',\n",
    "    n_steps=2048,\n",
    "    batch_size=64,\n",
    "    n_epochs=10,\n",
    "    learning_rate=3e-4,\n",
    "    ent_coef=exploration_schedule,\n",
    "    clip_range=0.2,\n",
    "    policy_kwargs=dict(\n",
    "        net_arch=dict(pi=[128, 128], vf=[128, 128]),\n",
    "        log_std_init=-2.0,\n",
    "        ortho_init=True\n",
    "    ),\n",
    "    use_sde=True,\n",
    "    sde_sample_freq=4\n",
    ")\n",
    "\n",
    "# Train for 40960 steps\n",
    "rl_model.learn(total_timesteps=40960)\n",
    "\n",
    "# Save the trained model\n",
    "rl_model.save(\"best_hpo_model\")\n",
    "env.close()"
   ]
  },
  {
   "cell_type": "markdown",
   "metadata": {
    "id": "results_title"
   },
   "source": [
    "## Analyze Results\n",
    "\n",
    "Check the wandb dashboard for training metrics and visualization."
   ]
  }
 ],
 "metadata": {
  "language_info": {
   "name": "python"
  }
 },
 "nbformat": 4,
 "nbformat_minor": 2
}
